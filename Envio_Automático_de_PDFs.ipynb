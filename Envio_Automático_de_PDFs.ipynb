{
  "nbformat": 4,
  "nbformat_minor": 0,
  "metadata": {
    "kernelspec": {
      "display_name": "Python 3",
      "language": "python",
      "name": "python3"
    },
    "language_info": {
      "codemirror_mode": {
        "name": "ipython",
        "version": 3
      },
      "file_extension": ".py",
      "mimetype": "text/x-python",
      "name": "python",
      "nbconvert_exporter": "python",
      "pygments_lexer": "ipython3",
      "version": "3.7.4"
    },
    "colab": {
      "name": "Envio Automático de PDFs.ipynb",
      "provenance": [],
      "collapsed_sections": [],
      "toc_visible": true
    }
  },
  "cells": [
    {
      "cell_type": "markdown",
      "metadata": {
        "id": "LopAZ8wIGv5g",
        "colab_type": "text"
      },
      "source": [
        "# Envio Automático de PDFs"
      ]
    },
    {
      "cell_type": "code",
      "metadata": {
        "id": "tYqKB1HEGv5i",
        "colab_type": "code",
        "colab": {}
      },
      "source": [
        "import smtplib\n",
        "from email.mime.multipart import MIMEMultipart\n",
        "from email.message import EmailMessage\n",
        "import os"
      ],
      "execution_count": 0,
      "outputs": []
    },
    {
      "cell_type": "markdown",
      "metadata": {
        "id": "MknFZd_qGv5o",
        "colab_type": "text"
      },
      "source": [
        "# Função de envio de PDFs"
      ]
    },
    {
      "cell_type": "code",
      "metadata": {
        "id": "FkPzs9KRGv5p",
        "colab_type": "code",
        "colab": {}
      },
      "source": [
        "def enviar_relatorios(destinatario, nome, relatorio, assunto):\n",
        "    msg = EmailMessage()\n",
        "\n",
        "    remetente = 'exemplo@dominio.com.br'\n",
        "    nome = nome\n",
        "\n",
        "    message = f\"\"\"\n",
        "    Olá {nome}, tudo bem? Segue em anexo o relatório do mês passado.\n",
        "\n",
        "    Qualquer dúvida estou a disposição!.\"\"\"\n",
        "\n",
        "    msg.set_content(message)\n",
        "    \n",
        "    for pdfs in relatorio:\n",
        "        with open(pdfs, 'rb') as pdf:\n",
        "            pdf = pdf.read()\n",
        "        msg.add_attachment(pdf, maintype='application/pdf', subtype='pdf', filename=pdfs)\n",
        "\n",
        "    msg['Subject'] = assunto\n",
        "    msg['From'] = remetente\n",
        "    msg['To'] = destinatario\n",
        "\n",
        "    server = smtplib.SMTP_SSL('smtp.gmail.com', 465)\n",
        "    server.login(msg['From'], \"lmofoepxwjufkpyf\")\n",
        "    server.send_message(msg)\n",
        "    server.quit()\n",
        "    print(\"successfully sent email to %s\" % (msg['To']))"
      ],
      "execution_count": 0,
      "outputs": []
    },
    {
      "cell_type": "markdown",
      "metadata": {
        "id": "nJT98EhFGv52",
        "colab_type": "text"
      },
      "source": [
        "### Enviando email com anexo em pdf"
      ]
    },
    {
      "cell_type": "code",
      "metadata": {
        "id": "Fe6P9hYvGv52",
        "colab_type": "code",
        "colab": {}
      },
      "source": [
        "destinatario = ['exemplo@dominio.com.br', 'exemplo@dominio.com.br', 'exemplo@dominio.com.br']\n",
        "\n",
        "assunto = 'Relatório Cliente - Maio'\n",
        "nome = 'Nome'\n",
        "relatorio = ['Relatorio cliente.pdf', 'Relatorio cliente 2.pdf']\n",
        "\n",
        "enviar_relatorios(destinatario, nome, relatorio, assunto)"
      ],
      "execution_count": 0,
      "outputs": []
    },
    {
      "cell_type": "code",
      "metadata": {
        "id": "XBap8pNXxDQP",
        "colab_type": "code",
        "colab": {}
      },
      "source": [
        ""
      ],
      "execution_count": 0,
      "outputs": []
    }
  ]
}